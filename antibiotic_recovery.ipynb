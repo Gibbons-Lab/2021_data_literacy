{
  "nbformat": 4,
  "nbformat_minor": 0,
  "metadata": {
    "colab": {
      "name": "antibiotic_recovery.ipynb",
      "provenance": [],
      "collapsed_sections": [],
      "authorship_tag": "ABX9TyMsUV8lkRLeGysByMOp1SBK",
      "include_colab_link": true
    },
    "kernelspec": {
      "name": "python3",
      "display_name": "Python 3"
    },
    "language_info": {
      "name": "python"
    }
  },
  "cells": [
    {
      "cell_type": "markdown",
      "metadata": {
        "id": "view-in-github",
        "colab_type": "text"
      },
      "source": [
        "<a href=\"https://colab.research.google.com/github/Gibbons-Lab/2021_data_literacy/blob/main/antibiotic_recovery.ipynb\" target=\"_parent\"><img src=\"https://colab.research.google.com/assets/colab-badge.svg\" alt=\"Open In Colab\"/></a>"
      ]
    },
    {
      "cell_type": "markdown",
      "metadata": {
        "id": "nMFKpitutvfx"
      },
      "source": [
        "# Antiobiotic recovery\n",
        "\n",
        "Here we will have a look at gut microbiome data from individuals that were put on antibiotics. Most of the individuals were sampled before antibiotic exposure (pre), during antibiotic exposure, and several weeks after exposure (post). The study included individuals from several countries. Here will look at the data from Singapore and Canada. \n",
        "\n",
        "To get an idea what the original data looked like, let's have a look at it. For that we will start by downloading the excel file for the study.\n",
        "\n"
      ]
    },
    {
      "cell_type": "code",
      "metadata": {
        "colab": {
          "base_uri": "https://localhost:8080/"
        },
        "id": "uUP2qYOi7lV3",
        "outputId": "d3b9b0e6-f496-4bc8-cfe3-52fa5fc09ce0"
      },
      "source": [
        "!wget https://git.io/JuaSY -O antibiotics.xlsx"
      ],
      "execution_count": 56,
      "outputs": [
        {
          "output_type": "stream",
          "name": "stdout",
          "text": [
            "--2021-09-10 23:06:15--  https://git.io/JuaSY\n",
            "Resolving git.io (git.io)... 54.157.58.70, 18.205.36.100, 54.162.128.250, ...\n",
            "Connecting to git.io (git.io)|54.157.58.70|:443... connected.\n",
            "HTTP request sent, awaiting response... 302 Found\n",
            "Location: https://github.com/Gibbons-Lab/2021_data_literacy/raw/main/antibiotics_recovery/antibiotics.xlsx [following]\n",
            "--2021-09-10 23:06:15--  https://github.com/Gibbons-Lab/2021_data_literacy/raw/main/antibiotics_recovery/antibiotics.xlsx\n",
            "Resolving github.com (github.com)... 140.82.113.4\n",
            "Connecting to github.com (github.com)|140.82.113.4|:443... connected.\n",
            "HTTP request sent, awaiting response... 302 Found\n",
            "Location: https://raw.githubusercontent.com/Gibbons-Lab/2021_data_literacy/main/antibiotics_recovery/antibiotics.xlsx [following]\n",
            "--2021-09-10 23:06:15--  https://raw.githubusercontent.com/Gibbons-Lab/2021_data_literacy/main/antibiotics_recovery/antibiotics.xlsx\n",
            "Resolving raw.githubusercontent.com (raw.githubusercontent.com)... 185.199.111.133, 185.199.108.133, 185.199.110.133, ...\n",
            "Connecting to raw.githubusercontent.com (raw.githubusercontent.com)|185.199.111.133|:443... connected.\n",
            "HTTP request sent, awaiting response... 200 OK\n",
            "Length: 109548 (107K) [application/octet-stream]\n",
            "Saving to: ‘antibiotics.xlsx’\n",
            "\n",
            "antibiotics.xlsx    100%[===================>] 106.98K  --.-KB/s    in 0.01s   \n",
            "\n",
            "2021-09-10 23:06:16 (7.21 MB/s) - ‘antibiotics.xlsx’ saved [109548/109548]\n",
            "\n"
          ]
        }
      ]
    },
    {
      "cell_type": "markdown",
      "metadata": {
        "id": "hGYjbdOrALmD"
      },
      "source": [
        "This will us an excel file with several tables. You can have a look at the file by clicking on the folder symbol to the left. \n",
        "\n",
        "## The Singapore Data\n",
        "\n",
        "For now we will load the original data for Singapore from the study. We will use the `pandas` library which has a lot of functions to read data from tabular data. Let's have a look at the first five rows afterwards."
      ]
    },
    {
      "cell_type": "code",
      "metadata": {
        "id": "boophFZAAfWp",
        "outputId": "db86a9bd-8a40-4915-f40b-f759a3cbc764",
        "colab": {
          "base_uri": "https://localhost:8080/",
          "height": 256
        }
      },
      "source": [
        "import pandas as pd\n",
        "\n",
        "singapore = pd.read_excel(\"antibiotics.xlsx\", \"Singapore\")\n",
        "singapore.head()"
      ],
      "execution_count": 81,
      "outputs": [
        {
          "output_type": "execute_result",
          "data": {
            "text/html": [
              "<div>\n",
              "<style scoped>\n",
              "    .dataframe tbody tr th:only-of-type {\n",
              "        vertical-align: middle;\n",
              "    }\n",
              "\n",
              "    .dataframe tbody tr th {\n",
              "        vertical-align: top;\n",
              "    }\n",
              "\n",
              "    .dataframe thead th {\n",
              "        text-align: right;\n",
              "    }\n",
              "</style>\n",
              "<table border=\"1\" class=\"dataframe\">\n",
              "  <thead>\n",
              "    <tr style=\"text-align: right;\">\n",
              "      <th></th>\n",
              "      <th>ID</th>\n",
              "      <th>sample_id</th>\n",
              "      <th>stage</th>\n",
              "      <th>Status</th>\n",
              "      <th>Abiotrophia_defectiva</th>\n",
              "      <th>Acidaminococcus_fermentans</th>\n",
              "      <th>Acidovorax_unclassified</th>\n",
              "      <th>Acinetobacter_baumannii</th>\n",
              "      <th>Acinetobacter_junii</th>\n",
              "      <th>Acinetobacter_lwoffii</th>\n",
              "      <th>Acinetobacter_unclassified</th>\n",
              "      <th>Actinobacillus_minor</th>\n",
              "      <th>Actinomyces_odontolyticus</th>\n",
              "      <th>Actinomyces_oris</th>\n",
              "      <th>Actinomyces_urogenitalis</th>\n",
              "      <th>Actinomyces_viscosus</th>\n",
              "      <th>Aeromonas_unclassified</th>\n",
              "      <th>Aggregatibacter_aphrophilus</th>\n",
              "      <th>Aggregatibacter_segnis</th>\n",
              "      <th>Aggregatibacter_unclassified</th>\n",
              "      <th>Akkermansia_muciniphila</th>\n",
              "      <th>Alistipes_putredinis</th>\n",
              "      <th>Alistipes_shahii</th>\n",
              "      <th>Alistipes_unclassified</th>\n",
              "      <th>Alkaliphilus_unclassified</th>\n",
              "      <th>Anaerococcus_hydrogenalis</th>\n",
              "      <th>Anaerococcus_lactolyticus</th>\n",
              "      <th>Anaerococcus_unclassified</th>\n",
              "      <th>Anaerococcus_vaginalis</th>\n",
              "      <th>Anaerofustis_stercorihominis</th>\n",
              "      <th>Anaerostipes_caccae</th>\n",
              "      <th>Anaerotruncus_colihominis</th>\n",
              "      <th>Atopobium_parvulum</th>\n",
              "      <th>Atopobium_rimae</th>\n",
              "      <th>Atopobium_vaginae</th>\n",
              "      <th>Bacillus_subtilis</th>\n",
              "      <th>Bacteroides_caccae</th>\n",
              "      <th>Bacteroides_cellulosilyticus</th>\n",
              "      <th>Bacteroides_coprocola</th>\n",
              "      <th>Bacteroides_coprophilus</th>\n",
              "      <th>...</th>\n",
              "      <th>Slackia_exigua</th>\n",
              "      <th>Slackia_unclassified</th>\n",
              "      <th>Solobacterium_moorei</th>\n",
              "      <th>Staphylococcus_aureus</th>\n",
              "      <th>Staphylococcus_epidermidis</th>\n",
              "      <th>Staphylococcus_haemolyticus</th>\n",
              "      <th>Staphylococcus_lugdunensis</th>\n",
              "      <th>Stenotrophomonas_maltophilia</th>\n",
              "      <th>Streptococcus_agalactiae</th>\n",
              "      <th>Streptococcus_anginosus</th>\n",
              "      <th>Streptococcus_australis</th>\n",
              "      <th>Streptococcus_bovis</th>\n",
              "      <th>Streptococcus_cristatus</th>\n",
              "      <th>Streptococcus_equinus</th>\n",
              "      <th>Streptococcus_gallolyticus</th>\n",
              "      <th>Streptococcus_gordonii</th>\n",
              "      <th>Streptococcus_infantarius</th>\n",
              "      <th>Streptococcus_infantis</th>\n",
              "      <th>Streptococcus_mitis</th>\n",
              "      <th>Streptococcus_mutans</th>\n",
              "      <th>Streptococcus_oralis</th>\n",
              "      <th>Streptococcus_parasanguinis</th>\n",
              "      <th>Streptococcus_peroris</th>\n",
              "      <th>Streptococcus_pyogenes</th>\n",
              "      <th>Streptococcus_salivarius</th>\n",
              "      <th>Streptococcus_sanguinis</th>\n",
              "      <th>Streptococcus_thermophilus</th>\n",
              "      <th>Streptococcus_vestibularis</th>\n",
              "      <th>Subdoligranulum_variabile</th>\n",
              "      <th>Succinatimonas_hippei</th>\n",
              "      <th>Sutterella_wadsworthensis</th>\n",
              "      <th>Turicibacter_unclassified</th>\n",
              "      <th>Veillonella_atypica</th>\n",
              "      <th>Veillonella_dispar</th>\n",
              "      <th>Veillonella_parvula</th>\n",
              "      <th>Veillonella_unclassified</th>\n",
              "      <th>Vibrio_furnissii</th>\n",
              "      <th>Victivallis_vadensis</th>\n",
              "      <th>Weissella_paramesenteroides</th>\n",
              "      <th>Yersinia_unclassified</th>\n",
              "    </tr>\n",
              "  </thead>\n",
              "  <tbody>\n",
              "    <tr>\n",
              "      <th>0</th>\n",
              "      <td>135EA_MBS303_A_INITIAL</td>\n",
              "      <td>135EA</td>\n",
              "      <td>pre</td>\n",
              "      <td>R</td>\n",
              "      <td>0.00000</td>\n",
              "      <td>0.0</td>\n",
              "      <td>0</td>\n",
              "      <td>0.0</td>\n",
              "      <td>0</td>\n",
              "      <td>0</td>\n",
              "      <td>0.0</td>\n",
              "      <td>0</td>\n",
              "      <td>0.00909</td>\n",
              "      <td>0.000000</td>\n",
              "      <td>0.0</td>\n",
              "      <td>0.000000</td>\n",
              "      <td>0</td>\n",
              "      <td>0.000000</td>\n",
              "      <td>0.000000</td>\n",
              "      <td>0.0</td>\n",
              "      <td>0.00000</td>\n",
              "      <td>0.538870</td>\n",
              "      <td>0.007010</td>\n",
              "      <td>0.000000</td>\n",
              "      <td>0</td>\n",
              "      <td>0.0</td>\n",
              "      <td>0.0</td>\n",
              "      <td>0.0</td>\n",
              "      <td>0.0</td>\n",
              "      <td>0.00000</td>\n",
              "      <td>0.000000</td>\n",
              "      <td>0.03221</td>\n",
              "      <td>0.000000</td>\n",
              "      <td>0.0</td>\n",
              "      <td>0</td>\n",
              "      <td>0.0</td>\n",
              "      <td>2.717680</td>\n",
              "      <td>0.02634</td>\n",
              "      <td>0.17792</td>\n",
              "      <td>0.167290</td>\n",
              "      <td>...</td>\n",
              "      <td>0.0</td>\n",
              "      <td>0.00162</td>\n",
              "      <td>0.000000</td>\n",
              "      <td>0.0</td>\n",
              "      <td>0.0</td>\n",
              "      <td>0</td>\n",
              "      <td>0.0</td>\n",
              "      <td>0.0</td>\n",
              "      <td>0.0</td>\n",
              "      <td>0.0000</td>\n",
              "      <td>0.00000</td>\n",
              "      <td>0.0</td>\n",
              "      <td>0.0</td>\n",
              "      <td>0.00000</td>\n",
              "      <td>0.0</td>\n",
              "      <td>0.000000</td>\n",
              "      <td>0.000000</td>\n",
              "      <td>0.00000</td>\n",
              "      <td>0.00000</td>\n",
              "      <td>0.0</td>\n",
              "      <td>0.0</td>\n",
              "      <td>0.08000</td>\n",
              "      <td>0.0</td>\n",
              "      <td>0.0000</td>\n",
              "      <td>0.196650</td>\n",
              "      <td>0.000000</td>\n",
              "      <td>0.003700</td>\n",
              "      <td>0.000760</td>\n",
              "      <td>0.0</td>\n",
              "      <td>0.0</td>\n",
              "      <td>0.00000</td>\n",
              "      <td>0.0</td>\n",
              "      <td>0.00000</td>\n",
              "      <td>0.000870</td>\n",
              "      <td>0.000000</td>\n",
              "      <td>0.001960</td>\n",
              "      <td>0</td>\n",
              "      <td>0.0</td>\n",
              "      <td>0.0</td>\n",
              "      <td>0</td>\n",
              "    </tr>\n",
              "    <tr>\n",
              "      <th>1</th>\n",
              "      <td>135EA_MBS304_B_CLOSING</td>\n",
              "      <td>135EA</td>\n",
              "      <td>during</td>\n",
              "      <td>R</td>\n",
              "      <td>0.00000</td>\n",
              "      <td>0.0</td>\n",
              "      <td>0</td>\n",
              "      <td>0.0</td>\n",
              "      <td>0</td>\n",
              "      <td>0</td>\n",
              "      <td>0.0</td>\n",
              "      <td>0</td>\n",
              "      <td>0.00121</td>\n",
              "      <td>0.000000</td>\n",
              "      <td>0.0</td>\n",
              "      <td>0.000000</td>\n",
              "      <td>0</td>\n",
              "      <td>0.000000</td>\n",
              "      <td>0.000000</td>\n",
              "      <td>0.0</td>\n",
              "      <td>0.00000</td>\n",
              "      <td>0.070640</td>\n",
              "      <td>0.002700</td>\n",
              "      <td>0.005510</td>\n",
              "      <td>0</td>\n",
              "      <td>0.0</td>\n",
              "      <td>0.0</td>\n",
              "      <td>0.0</td>\n",
              "      <td>0.0</td>\n",
              "      <td>0.00000</td>\n",
              "      <td>0.000000</td>\n",
              "      <td>0.01563</td>\n",
              "      <td>0.000000</td>\n",
              "      <td>0.0</td>\n",
              "      <td>0</td>\n",
              "      <td>0.0</td>\n",
              "      <td>1.242320</td>\n",
              "      <td>0.06301</td>\n",
              "      <td>0.00000</td>\n",
              "      <td>0.433090</td>\n",
              "      <td>...</td>\n",
              "      <td>0.0</td>\n",
              "      <td>0.00000</td>\n",
              "      <td>0.000000</td>\n",
              "      <td>0.0</td>\n",
              "      <td>0.0</td>\n",
              "      <td>0</td>\n",
              "      <td>0.0</td>\n",
              "      <td>0.0</td>\n",
              "      <td>0.0</td>\n",
              "      <td>0.0000</td>\n",
              "      <td>0.00000</td>\n",
              "      <td>0.0</td>\n",
              "      <td>0.0</td>\n",
              "      <td>0.00000</td>\n",
              "      <td>0.0</td>\n",
              "      <td>0.000000</td>\n",
              "      <td>0.000000</td>\n",
              "      <td>0.00000</td>\n",
              "      <td>0.00000</td>\n",
              "      <td>0.0</td>\n",
              "      <td>0.0</td>\n",
              "      <td>0.09691</td>\n",
              "      <td>0.0</td>\n",
              "      <td>0.0000</td>\n",
              "      <td>0.216810</td>\n",
              "      <td>0.000000</td>\n",
              "      <td>0.005820</td>\n",
              "      <td>0.000000</td>\n",
              "      <td>0.0</td>\n",
              "      <td>0.0</td>\n",
              "      <td>0.00000</td>\n",
              "      <td>0.0</td>\n",
              "      <td>0.00000</td>\n",
              "      <td>0.010320</td>\n",
              "      <td>0.000000</td>\n",
              "      <td>0.050930</td>\n",
              "      <td>0</td>\n",
              "      <td>0.0</td>\n",
              "      <td>0.0</td>\n",
              "      <td>0</td>\n",
              "    </tr>\n",
              "    <tr>\n",
              "      <th>2</th>\n",
              "      <td>135EA_MBS074_C_POST</td>\n",
              "      <td>135EA</td>\n",
              "      <td>post</td>\n",
              "      <td>R</td>\n",
              "      <td>0.00558</td>\n",
              "      <td>0.0</td>\n",
              "      <td>0</td>\n",
              "      <td>0.0</td>\n",
              "      <td>0</td>\n",
              "      <td>0</td>\n",
              "      <td>0.0</td>\n",
              "      <td>0</td>\n",
              "      <td>0.05306</td>\n",
              "      <td>0.006373</td>\n",
              "      <td>0.0</td>\n",
              "      <td>0.013097</td>\n",
              "      <td>0</td>\n",
              "      <td>0.000833</td>\n",
              "      <td>0.000193</td>\n",
              "      <td>0.0</td>\n",
              "      <td>0.02622</td>\n",
              "      <td>0.617983</td>\n",
              "      <td>0.067633</td>\n",
              "      <td>0.016133</td>\n",
              "      <td>0</td>\n",
              "      <td>0.0</td>\n",
              "      <td>0.0</td>\n",
              "      <td>0.0</td>\n",
              "      <td>0.0</td>\n",
              "      <td>0.00000</td>\n",
              "      <td>0.020023</td>\n",
              "      <td>1.26171</td>\n",
              "      <td>0.004943</td>\n",
              "      <td>0.0</td>\n",
              "      <td>0</td>\n",
              "      <td>0.0</td>\n",
              "      <td>2.604283</td>\n",
              "      <td>0.61807</td>\n",
              "      <td>0.00000</td>\n",
              "      <td>0.925543</td>\n",
              "      <td>...</td>\n",
              "      <td>0.0</td>\n",
              "      <td>0.03247</td>\n",
              "      <td>0.002063</td>\n",
              "      <td>0.0</td>\n",
              "      <td>0.0</td>\n",
              "      <td>0</td>\n",
              "      <td>0.0</td>\n",
              "      <td>0.0</td>\n",
              "      <td>0.0</td>\n",
              "      <td>0.0000</td>\n",
              "      <td>0.01015</td>\n",
              "      <td>0.0</td>\n",
              "      <td>0.0</td>\n",
              "      <td>0.00006</td>\n",
              "      <td>0.0</td>\n",
              "      <td>0.005637</td>\n",
              "      <td>0.116653</td>\n",
              "      <td>0.00141</td>\n",
              "      <td>0.01021</td>\n",
              "      <td>0.0</td>\n",
              "      <td>0.0</td>\n",
              "      <td>0.33372</td>\n",
              "      <td>0.0</td>\n",
              "      <td>0.0000</td>\n",
              "      <td>0.276893</td>\n",
              "      <td>0.001873</td>\n",
              "      <td>0.010157</td>\n",
              "      <td>0.022627</td>\n",
              "      <td>0.0</td>\n",
              "      <td>0.0</td>\n",
              "      <td>0.00395</td>\n",
              "      <td>0.0</td>\n",
              "      <td>0.00078</td>\n",
              "      <td>0.001027</td>\n",
              "      <td>0.002133</td>\n",
              "      <td>0.015363</td>\n",
              "      <td>0</td>\n",
              "      <td>0.0</td>\n",
              "      <td>0.0</td>\n",
              "      <td>0</td>\n",
              "    </tr>\n",
              "    <tr>\n",
              "      <th>3</th>\n",
              "      <td>148JV_MBS088_A_INITIAL</td>\n",
              "      <td>148JV</td>\n",
              "      <td>pre</td>\n",
              "      <td>R</td>\n",
              "      <td>0.00000</td>\n",
              "      <td>0.0</td>\n",
              "      <td>0</td>\n",
              "      <td>0.0</td>\n",
              "      <td>0</td>\n",
              "      <td>0</td>\n",
              "      <td>0.0</td>\n",
              "      <td>0</td>\n",
              "      <td>0.01533</td>\n",
              "      <td>0.096490</td>\n",
              "      <td>0.0</td>\n",
              "      <td>0.228200</td>\n",
              "      <td>0</td>\n",
              "      <td>0.000000</td>\n",
              "      <td>0.000000</td>\n",
              "      <td>0.0</td>\n",
              "      <td>0.01148</td>\n",
              "      <td>20.646710</td>\n",
              "      <td>1.694080</td>\n",
              "      <td>0.000000</td>\n",
              "      <td>0</td>\n",
              "      <td>0.0</td>\n",
              "      <td>0.0</td>\n",
              "      <td>0.0</td>\n",
              "      <td>0.0</td>\n",
              "      <td>0.04609</td>\n",
              "      <td>0.163570</td>\n",
              "      <td>7.03122</td>\n",
              "      <td>0.150540</td>\n",
              "      <td>0.0</td>\n",
              "      <td>0</td>\n",
              "      <td>0.0</td>\n",
              "      <td>1.924190</td>\n",
              "      <td>0.00000</td>\n",
              "      <td>0.00017</td>\n",
              "      <td>0.000000</td>\n",
              "      <td>...</td>\n",
              "      <td>0.0</td>\n",
              "      <td>0.01380</td>\n",
              "      <td>0.000000</td>\n",
              "      <td>0.0</td>\n",
              "      <td>0.0</td>\n",
              "      <td>0</td>\n",
              "      <td>0.0</td>\n",
              "      <td>0.0</td>\n",
              "      <td>0.0</td>\n",
              "      <td>1.2852</td>\n",
              "      <td>0.00000</td>\n",
              "      <td>0.0</td>\n",
              "      <td>0.0</td>\n",
              "      <td>0.00000</td>\n",
              "      <td>0.0</td>\n",
              "      <td>0.016720</td>\n",
              "      <td>0.000000</td>\n",
              "      <td>0.00000</td>\n",
              "      <td>0.00000</td>\n",
              "      <td>0.0</td>\n",
              "      <td>0.0</td>\n",
              "      <td>0.78052</td>\n",
              "      <td>0.0</td>\n",
              "      <td>0.0322</td>\n",
              "      <td>0.092850</td>\n",
              "      <td>0.014520</td>\n",
              "      <td>0.006440</td>\n",
              "      <td>0.015800</td>\n",
              "      <td>0.0</td>\n",
              "      <td>0.0</td>\n",
              "      <td>0.01225</td>\n",
              "      <td>0.0</td>\n",
              "      <td>0.00000</td>\n",
              "      <td>0.000000</td>\n",
              "      <td>0.023580</td>\n",
              "      <td>0.006610</td>\n",
              "      <td>0</td>\n",
              "      <td>0.0</td>\n",
              "      <td>0.0</td>\n",
              "      <td>0</td>\n",
              "    </tr>\n",
              "    <tr>\n",
              "      <th>4</th>\n",
              "      <td>148JV_MBS092_B_CLOSING</td>\n",
              "      <td>148JV</td>\n",
              "      <td>during</td>\n",
              "      <td>R</td>\n",
              "      <td>0.00000</td>\n",
              "      <td>0.0</td>\n",
              "      <td>0</td>\n",
              "      <td>0.0</td>\n",
              "      <td>0</td>\n",
              "      <td>0</td>\n",
              "      <td>0.0</td>\n",
              "      <td>0</td>\n",
              "      <td>0.00000</td>\n",
              "      <td>0.000000</td>\n",
              "      <td>0.0</td>\n",
              "      <td>0.000000</td>\n",
              "      <td>0</td>\n",
              "      <td>0.000000</td>\n",
              "      <td>0.000000</td>\n",
              "      <td>0.0</td>\n",
              "      <td>0.00511</td>\n",
              "      <td>1.910700</td>\n",
              "      <td>0.975340</td>\n",
              "      <td>0.138840</td>\n",
              "      <td>0</td>\n",
              "      <td>0.0</td>\n",
              "      <td>0.0</td>\n",
              "      <td>0.0</td>\n",
              "      <td>0.0</td>\n",
              "      <td>0.00372</td>\n",
              "      <td>0.008100</td>\n",
              "      <td>0.20017</td>\n",
              "      <td>0.000000</td>\n",
              "      <td>0.0</td>\n",
              "      <td>0</td>\n",
              "      <td>0.0</td>\n",
              "      <td>6.553790</td>\n",
              "      <td>0.00000</td>\n",
              "      <td>0.00000</td>\n",
              "      <td>0.000000</td>\n",
              "      <td>...</td>\n",
              "      <td>0.0</td>\n",
              "      <td>0.00261</td>\n",
              "      <td>0.000000</td>\n",
              "      <td>0.0</td>\n",
              "      <td>0.0</td>\n",
              "      <td>0</td>\n",
              "      <td>0.0</td>\n",
              "      <td>0.0</td>\n",
              "      <td>0.0</td>\n",
              "      <td>0.0000</td>\n",
              "      <td>0.00000</td>\n",
              "      <td>0.0</td>\n",
              "      <td>0.0</td>\n",
              "      <td>0.00000</td>\n",
              "      <td>0.0</td>\n",
              "      <td>0.000000</td>\n",
              "      <td>0.000000</td>\n",
              "      <td>0.00000</td>\n",
              "      <td>0.00000</td>\n",
              "      <td>0.0</td>\n",
              "      <td>0.0</td>\n",
              "      <td>0.93038</td>\n",
              "      <td>0.0</td>\n",
              "      <td>0.0000</td>\n",
              "      <td>0.000000</td>\n",
              "      <td>0.000000</td>\n",
              "      <td>0.000000</td>\n",
              "      <td>0.000000</td>\n",
              "      <td>0.0</td>\n",
              "      <td>0.0</td>\n",
              "      <td>0.00000</td>\n",
              "      <td>0.0</td>\n",
              "      <td>0.00000</td>\n",
              "      <td>0.000000</td>\n",
              "      <td>0.000000</td>\n",
              "      <td>0.000000</td>\n",
              "      <td>0</td>\n",
              "      <td>0.0</td>\n",
              "      <td>0.0</td>\n",
              "      <td>0</td>\n",
              "    </tr>\n",
              "  </tbody>\n",
              "</table>\n",
              "<p>5 rows × 333 columns</p>\n",
              "</div>"
            ],
            "text/plain": [
              "                       ID  ... Yersinia_unclassified\n",
              "0  135EA_MBS303_A_INITIAL  ...                     0\n",
              "1  135EA_MBS304_B_CLOSING  ...                     0\n",
              "2     135EA_MBS074_C_POST  ...                     0\n",
              "3  148JV_MBS088_A_INITIAL  ...                     0\n",
              "4  148JV_MBS092_B_CLOSING  ...                     0\n",
              "\n",
              "[5 rows x 333 columns]"
            ]
          },
          "metadata": {},
          "execution_count": 81
        }
      ]
    },
    {
      "cell_type": "markdown",
      "metadata": {
        "id": "-ZwFQWh6A3mz"
      },
      "source": [
        "As you can see there is data for 329 bacterial species and each value in the table is a percentage (so 1 means the bacteria contributed 1% of all DNA in the sample). To get an idea how that looks, let's have a look at one of the most abundant bacteria *Bacteroides vulgatus*. For that we use `seaborn` again, in particular the `stripplot` function that draws a dot for each data point and also jitters the data arund the x-axis a bit so we don't have that many overlapping points."
      ]
    },
    {
      "cell_type": "code",
      "metadata": {
        "id": "FR3j1AZEBRP8",
        "outputId": "318bf56b-0894-4387-dfce-cfcfb7553759",
        "colab": {
          "base_uri": "https://localhost:8080/",
          "height": 296
        }
      },
      "source": [
        "import seaborn as sns\n",
        "\n",
        "sns.stripplot(x=\"stage\", y=\"Bacteroides_vulgatus\", hue=\"stage\", data=singapore)"
      ],
      "execution_count": 75,
      "outputs": [
        {
          "output_type": "execute_result",
          "data": {
            "text/plain": [
              "<matplotlib.axes._subplots.AxesSubplot at 0x7fb2e381a2d0>"
            ]
          },
          "metadata": {},
          "execution_count": 75
        },
        {
          "output_type": "display_data",
          "data": {
            "image/png": "[encoded data removed]",
            "text/plain": [
              "<Figure size 432x288 with 1 Axes>"
            ]
          },
          "metadata": {
            "needs_background": "light"
          }
        }
      ]
    },
    {
      "cell_type": "markdown",
      "metadata": {
        "id": "evM4amIXBtpm"
      },
      "source": [
        "So we see that the bacteria is present in most individuals before antibiotics, gets eradicated in most individuals during antibiotics and pop back up after. But how about the entire ecosystem?\n",
        "\n",
        "## Alpha Diversity\n",
        "\n",
        "Alpha diversity is measure how diverse an ecosystem is, it takes the number of species but also the abundances into account and will give you a single positive number where higher values mean more diverse and lower values mean less diverse. So let's have a look at alpha diversity in data from Singapore and Canada. Here individuals were also classified into \"recoverers\" (R) and \"non-recovereres\" (NR)."
      ]
    },
    {
      "cell_type": "code",
      "metadata": {
        "colab": {
          "base_uri": "https://localhost:8080/",
          "height": 424
        },
        "id": "Ub72Bfr-tnTW",
        "outputId": "ff02ee5a-3a93-4446-b16c-000084bf61ed"
      },
      "source": [
        "import pandas as pd\n",
        "\n",
        "adiv = pd.read_excel(\"antibiotics.xlsx\", \"Alpha Diversity (long)\")\n",
        "adiv"
      ],
      "execution_count": 57,
      "outputs": [
        {
          "output_type": "execute_result",
          "data": {
            "text/html": [
              "<div>\n",
              "<style scoped>\n",
              "    .dataframe tbody tr th:only-of-type {\n",
              "        vertical-align: middle;\n",
              "    }\n",
              "\n",
              "    .dataframe tbody tr th {\n",
              "        vertical-align: top;\n",
              "    }\n",
              "\n",
              "    .dataframe thead th {\n",
              "        text-align: right;\n",
              "    }\n",
              "</style>\n",
              "<table border=\"1\" class=\"dataframe\">\n",
              "  <thead>\n",
              "    <tr style=\"text-align: right;\">\n",
              "      <th></th>\n",
              "      <th>stage</th>\n",
              "      <th>sample_id</th>\n",
              "      <th>Status</th>\n",
              "      <th>country</th>\n",
              "      <th>diversity</th>\n",
              "    </tr>\n",
              "  </thead>\n",
              "  <tbody>\n",
              "    <tr>\n",
              "      <th>0</th>\n",
              "      <td>pre</td>\n",
              "      <td>135EA</td>\n",
              "      <td>R</td>\n",
              "      <td>Singapore</td>\n",
              "      <td>1.237418</td>\n",
              "    </tr>\n",
              "    <tr>\n",
              "      <th>1</th>\n",
              "      <td>during</td>\n",
              "      <td>135EA</td>\n",
              "      <td>R</td>\n",
              "      <td>Singapore</td>\n",
              "      <td>1.528318</td>\n",
              "    </tr>\n",
              "    <tr>\n",
              "      <th>2</th>\n",
              "      <td>post</td>\n",
              "      <td>135EA</td>\n",
              "      <td>R</td>\n",
              "      <td>Singapore</td>\n",
              "      <td>3.176266</td>\n",
              "    </tr>\n",
              "    <tr>\n",
              "      <th>3</th>\n",
              "      <td>pre</td>\n",
              "      <td>148JV</td>\n",
              "      <td>R</td>\n",
              "      <td>Singapore</td>\n",
              "      <td>3.076906</td>\n",
              "    </tr>\n",
              "    <tr>\n",
              "      <th>4</th>\n",
              "      <td>during</td>\n",
              "      <td>148JV</td>\n",
              "      <td>R</td>\n",
              "      <td>Singapore</td>\n",
              "      <td>2.220140</td>\n",
              "    </tr>\n",
              "    <tr>\n",
              "      <th>...</th>\n",
              "      <td>...</td>\n",
              "      <td>...</td>\n",
              "      <td>...</td>\n",
              "      <td>...</td>\n",
              "      <td>...</td>\n",
              "    </tr>\n",
              "    <tr>\n",
              "      <th>74</th>\n",
              "      <td>during</td>\n",
              "      <td>P4</td>\n",
              "      <td>NR</td>\n",
              "      <td>Canada</td>\n",
              "      <td>0.899459</td>\n",
              "    </tr>\n",
              "    <tr>\n",
              "      <th>75</th>\n",
              "      <td>post</td>\n",
              "      <td>P4</td>\n",
              "      <td>NR</td>\n",
              "      <td>Canada</td>\n",
              "      <td>1.537152</td>\n",
              "    </tr>\n",
              "    <tr>\n",
              "      <th>76</th>\n",
              "      <td>pre</td>\n",
              "      <td>P5</td>\n",
              "      <td>NR</td>\n",
              "      <td>Canada</td>\n",
              "      <td>1.972920</td>\n",
              "    </tr>\n",
              "    <tr>\n",
              "      <th>77</th>\n",
              "      <td>during</td>\n",
              "      <td>P5</td>\n",
              "      <td>NR</td>\n",
              "      <td>Canada</td>\n",
              "      <td>1.652205</td>\n",
              "    </tr>\n",
              "    <tr>\n",
              "      <th>78</th>\n",
              "      <td>post</td>\n",
              "      <td>P5</td>\n",
              "      <td>NR</td>\n",
              "      <td>Canada</td>\n",
              "      <td>2.139639</td>\n",
              "    </tr>\n",
              "  </tbody>\n",
              "</table>\n",
              "<p>79 rows × 5 columns</p>\n",
              "</div>"
            ],
            "text/plain": [
              "     stage sample_id Status    country  diversity\n",
              "0      pre     135EA      R  Singapore   1.237418\n",
              "1   during     135EA      R  Singapore   1.528318\n",
              "2     post     135EA      R  Singapore   3.176266\n",
              "3      pre     148JV      R  Singapore   3.076906\n",
              "4   during     148JV      R  Singapore   2.220140\n",
              "..     ...       ...    ...        ...        ...\n",
              "74  during        P4     NR     Canada   0.899459\n",
              "75    post        P4     NR     Canada   1.537152\n",
              "76     pre        P5     NR     Canada   1.972920\n",
              "77  during        P5     NR     Canada   1.652205\n",
              "78    post        P5     NR     Canada   2.139639\n",
              "\n",
              "[79 rows x 5 columns]"
            ]
          },
          "metadata": {},
          "execution_count": 57
        }
      ]
    },
    {
      "cell_type": "markdown",
      "metadata": {
        "id": "Ygbi_26RA2LK"
      },
      "source": [
        "So you see there is a single value for each measurement now. We will visualize this with the `relplot` function from `seaborn` using a line plot. This will draw a line for the mean value and shaded areas for the standard deviation."
      ]
    },
    {
      "cell_type": "code",
      "metadata": {
        "colab": {
          "base_uri": "https://localhost:8080/",
          "height": 400
        },
        "id": "dtyv2mHfuvtz",
        "outputId": "8585a1f4-d391-432a-d4e1-726ada1cd8c2"
      },
      "source": [
        "import seaborn as sns\n",
        "\n",
        "sns.relplot(x=\"stage\", y=\"diversity\", hue=\"Status\", kind=\"line\", col=\"country\", data=adiv)"
      ],
      "execution_count": 68,
      "outputs": [
        {
          "output_type": "execute_result",
          "data": {
            "text/plain": [
              "<seaborn.axisgrid.FacetGrid at 0x7fb2e3bc5d50>"
            ]
          },
          "metadata": {},
          "execution_count": 68
        },
        {
          "output_type": "display_data",
          "data": {
            "image/png": "[encoded data removed]",
            "text/plain": [
              "<Figure size 770.375x360 with 2 Axes>"
            ]
          },
          "metadata": {
            "needs_background": "light"
          }
        }
      ]
    },
    {
      "cell_type": "markdown",
      "metadata": {
        "id": "aTGgjyRmDYDl"
      },
      "source": [
        "So we the same behavior for Singapore again. Most people start at decent gut microbial diversity, then dip during antibiotic treatment and recover after. However you see that the \"recoverers\" end up at a higher diversity then the non-recoverers. This is similar in the Canadian population but the recoverers also tend to have a more diverse microbiome before the antibiotic treatment.\n",
        "\n",
        "The one thing that is similar between the two countries are the differences after antibiotics. This becomes super clear if we only visualize the post-antibiotics samples."
      ]
    },
    {
      "cell_type": "code",
      "metadata": {
        "id": "0IXYVx1V-cME",
        "outputId": "69164d62-4915-4c97-ccc6-5a73a8de458a",
        "colab": {
          "base_uri": "https://localhost:8080/",
          "height": 400
        }
      },
      "source": [
        "sns.catplot(x=\"Status\", y=\"diversity\", data=adiv[adiv.stage == \"post\"], col=\"country\")"
      ],
      "execution_count": 72,
      "outputs": [
        {
          "output_type": "execute_result",
          "data": {
            "text/plain": [
              "<seaborn.axisgrid.FacetGrid at 0x7fb2e62af4d0>"
            ]
          },
          "metadata": {},
          "execution_count": 72
        },
        {
          "output_type": "display_data",
          "data": {
            "image/png": "[encoded data removed]",
            "text/plain": [
              "<Figure size 720x360 with 2 Axes>"
            ]
          },
          "metadata": {
            "needs_background": "light"
          }
        }
      ]
    },
    {
      "cell_type": "markdown",
      "metadata": {
        "id": "xURJWRVEEQl_"
      },
      "source": [
        "## Keystone taxa\n",
        "\n",
        "So what could be driving those differences? Well let's have a look at the abundances of two species of interest. What we can ask is if those species are maybe more abundant in recoverers than non-recoverers. If that were true we might postulate that those bacteria help us to recover after antibiotics. \n",
        "\n",
        "Let's start with *Bifidobacterium adolescentis* which is in general pretty low abundance (~0.5% of bacteria in our gut). "
      ]
    },
    {
      "cell_type": "code",
      "metadata": {
        "colab": {
          "base_uri": "https://localhost:8080/",
          "height": 296
        },
        "id": "7UQDSqJNwmtT",
        "outputId": "35d0f415-c967-4825-8476-2e5c113a1925"
      },
      "source": [
        "keystone = pd.read_excel(\"https://git.io/JuaSY\", \"Keystone Taxa Singapore\")\n",
        "\n",
        "sns.barplot(x=\"Status\", y=\"Bifidobacterium_adolescentis\", data=keystone, log=True)"
      ],
      "execution_count": 78,
      "outputs": [
        {
          "output_type": "execute_result",
          "data": {
            "text/plain": [
              "<matplotlib.axes._subplots.AxesSubplot at 0x7fb2e34618d0>"
            ]
          },
          "metadata": {},
          "execution_count": 78
        },
        {
          "output_type": "display_data",
          "data": {
            "image/png": "[encoded data removed]",
            "text/plain": [
              "<Figure size 432x288 with 1 Axes>"
            ]
          },
          "metadata": {
            "needs_background": "light"
          }
        }
      ]
    },
    {
      "cell_type": "markdown",
      "metadata": {
        "id": "vwhBc86MFaGL"
      },
      "source": [
        "Okay that looks like a difference for sure. The bars denote the average abundance and the lines the standard error. Let's also have a look at another species, *Bacteroides thetaiotaomicron*. "
      ]
    },
    {
      "cell_type": "code",
      "metadata": {
        "colab": {
          "base_uri": "https://localhost:8080/",
          "height": 296
        },
        "id": "3YVicLoMxk5H",
        "outputId": "21e15193-e01c-4c88-fc16-c3f9739dd49f"
      },
      "source": [
        "sns.barplot(x=\"Status\", y=\"Bacteroides_thetaiotaomicron\", data=keystone, log=True)"
      ],
      "execution_count": 79,
      "outputs": [
        {
          "output_type": "execute_result",
          "data": {
            "text/plain": [
              "<matplotlib.axes._subplots.AxesSubplot at 0x7fb2e342edd0>"
            ]
          },
          "metadata": {},
          "execution_count": 79
        },
        {
          "output_type": "display_data",
          "data": {
            "image/png": "[encoded data removed]",
            "text/plain": [
              "<Figure size 432x288 with 1 Axes>"
            ]
          },
          "metadata": {
            "needs_background": "light"
          }
        }
      ]
    },
    {
      "cell_type": "markdown",
      "metadata": {
        "id": "eW6IaousFwnJ"
      },
      "source": [
        "Similar behavior but a bit more noisy."
      ]
    }
  ]
}